{
 "cells": [
  {
   "cell_type": "code",
   "execution_count": 1,
   "metadata": {},
   "outputs": [],
   "source": [
    "from selenium import webdriver \n",
    "import time as TIME\n",
    "import pandas as pd\n",
    "import matplotlib.pyplot as plt\n",
    "%matplotlib inline\n",
    "from IPython.display import clear_output\n",
    "import seaborn as sns\n",
    "sns.set(color_codes=True)\n",
    "import warnings\n",
    "warnings.filterwarnings(\"ignore\")"
   ]
  },
  {
   "cell_type": "code",
   "execution_count": 2,
   "metadata": {},
   "outputs": [],
   "source": [
    "def get_data(url):\n",
    "    data_element = browser.find_elements_by_xpath(url)\n",
    "    datas = [x.text for x in data_element]\n",
    "    return datas\n",
    "def check_na(a):\n",
    "    if a == ['']:\n",
    "        a = ['0']"
   ]
  },
  {
   "cell_type": "code",
   "execution_count": null,
   "metadata": {},
   "outputs": [],
   "source": [
    "option = webdriver.ChromeOptions()\n",
    "\n",
    "option.add_argument(\"— incognito\")\n",
    "\n",
    "executable_path = \"/Users/cuong/Documents/Selenium/chromedriver\"\n",
    "#executable_path = \"C:\\\\Users\\\\truon\\\\Downloads\\\\chromedriver_win32\\\\chromedriver\"\n",
    "\n",
    "browser = webdriver.Chrome(executable_path = executable_path, \n",
    "                            chrome_options=option)\n",
    "\n",
    "browser.get(\"https://trade-hn.vndirect.com.vn/chung-khoan/phai-sinh\")\n",
    "\n",
    "\n",
    "TIME.sleep(5)\n",
    "\n",
    "\n"
   ]
  },
  {
   "cell_type": "code",
   "execution_count": null,
   "metadata": {},
   "outputs": [
    {
     "name": "stdout",
     "output_type": "stream",
     "text": [
      "   Date:       Time:     VN30:   Price : Volume: CumVolume  Spread\n",
      "26/07/2018   12:51:53   911.01   907.0     1     65,646      4.01 \n",
      "\n"
     ]
    },
    {
     "data": {
      "image/png": "[encoded data removed]",
      "text/plain": [
       "<matplotlib.figure.Figure at 0x1a1df0d0f0>"
      ]
     },
     "metadata": {},
     "output_type": "display_data"
    }
   ],
   "source": [
    "columns = [\"Date\",\"Time\",\"VN30\", \"Price\",\"Volume\",\"CumVol\",\"Spread\",\"NN_mua\",\"NN_ban\"]\n",
    "df = pd.DataFrame(columns = columns)\n",
    "bid_list = []\n",
    "ask_list = []\n",
    "\n",
    "i = 0\n",
    "plt.clf()\n",
    "\n",
    "fig1 = plt.figure()\n",
    "#fig2 = plt.figure()\n",
    "\n",
    "while True:\n",
    "    #plt.clf()\n",
    "    TIME.sleep(0.5)\n",
    "    \n",
    "    dates = get_data(\"//*[@id='clock-date']\")\n",
    "\n",
    "    times = get_data(\"//*[@id='clock-time']\")\n",
    "\n",
    "    prices = get_data(\"//*[@id='banggia-phaisinh-body']/tr[1]/td[14]/span\")\n",
    "    \n",
    "    vols = get_data(\"//*[@id='banggia-phaisinh-body']/tr[1]/td[15]/span\")\n",
    "    \n",
    "    VN30s  =  get_data(\"//*[@id='charts-wrapper']/div/div/div[2]/div[2]/p[1]/span[3]\")\n",
    "    \n",
    "    cumvols  =  get_data(\"//*[@id='banggia-phaisinh-body']/tr[1]/td[6]/span\")\n",
    "     \n",
    "    NN_muas = get_data(\"//*[@id='banggia-phaisinh-body']/tr[1]/td[26]/span/span[1]\")\n",
    "    \n",
    "    NN_bans = get_data(\"//*[@id='banggia-phaisinh-body']/tr[1]/td[26]/span/span[2]\")\n",
    "    \n",
    "    check_na(NN_muas)\n",
    "    check_na(NN_bans)\n",
    "#     # Bid price & volume\n",
    "#     b_p_1, b_v_1 = get_data(\"//*[@id='banggia-phaisinh-body']/tr[1]/td[12]/span\"), get_data(\"//*[@id='banggia-phaisinh-body']/tr[1]/td[13]/span\")\n",
    "#     b_p_2, b_v_2 = get_data(\"//*[@id='banggia-phaisinh-body']/tr[1]/td[10]/span\"), get_data(\"//*[@id='banggia-phaisinh-body']/tr[1]/td[11]/span\")\n",
    "#     b_p_3, b_v_3 = get_data(\"//*[@id='banggia-phaisinh-body']/tr[1]/td[8]/span\"), get_data(\"//*[@id='banggia-phaisinh-body']/tr[1]/td[9]/span\")\n",
    "    \n",
    "#     # Ask price & volume\n",
    "#     a_p_1, a_v_1 = get_data(\"//*[@id='banggia-phaisinh-body']/tr[1]/td[17]/span\"), get_data(\"//*[@id='banggia-phaisinh-body']/tr[1]/td[18]/span\")\n",
    "#     a_p_2, a_v_2 = get_data(\"//*[@id='banggia-phaisinh-body']/tr[1]/td[19]/span\"), get_data(\"//*[@id='banggia-phaisinh-body']/tr[1]/td[20]/span\")\n",
    "#     a_p_3, a_v_3 = get_data(\"//*[@id='banggia-phaisinh-body']/tr[1]/td[21]/span\"), get_data(\"//*[@id='banggia-phaisinh-body']/tr[1]/td[22]/span\")\n",
    "    \n",
    "\n",
    "    for date, time, VN30, price, vol, cumvol, NN_mua, NN_ban in zip(dates, times, VN30s, prices, vols, cumvols,\\\n",
    "                                                                   NN_muas, NN_bans):\n",
    "        spread = str(round((float(VN30) - float(price)),2))\n",
    "        print(\"   Date:       Time:     VN30:   Price : Volume: CumVolume  Spread\")\n",
    "        print(date + \"   \" + time + \"   \" + VN30 + \"   \" + price + \"     \" + vol+\"     \" +cumvol+ \"      \"+ spread, '\\n')\n",
    "    \n",
    "    \n",
    "    spread = spread.replace(\",\",\".\")\n",
    "    cumvol = cumvol.replace(\",\",\"\")\n",
    "    df.loc[i] = [date, time, float(VN30), float(price), float(vol), float(cumvol), float(spread),\\\n",
    "                 float(NN_mua),float(NN_ban)]\n",
    "\n",
    "    \n",
    "#     for bp1, bv1, bp2, bv2, bp3, bv3, ap1, av1, ap2, av2, ap3, av3 in zip(b_p_1, b_v_1, b_p_2, b_v_2, b_p_3, b_v_3, \\\n",
    "#                                                                          a_p_1, a_v_1, a_p_2, a_v_2, a_p_3, a_v_3):\n",
    "#         print(bp1, bv1, bp2, bv2, bp3, bv3)\n",
    "#         print(ap1, av1, ap2, av2, ap3, av3)\n",
    "#         bid_list.extend(b_p_1 * int(bv1))\n",
    "#         bid_list.extend(b_p_2 * int(bv2))\n",
    "#         bid_list.extend(b_p_3 * int(bv3))\n",
    "#         ask_list.extend(a_p_1 * int(av1))\n",
    "#         ask_list.extend(a_p_2 * int(av2))\n",
    "#         ask_list.extend(a_p_3 * int(av3))\n",
    "    \n",
    "#     bid_list = list(map(float, bid_list))\n",
    "#     ask_list = list(map(float, ask_list))\n",
    "    \n",
    "    \n",
    "    \n",
    "#     if len(bid_list) > 500 :\n",
    "#         bid_list = bid_list[-500:]\n",
    "#     if len(ask_list) > 500 :\n",
    "#         ask_list = ask_list[-500:]\n",
    "\n",
    "    period = len(df['Price'])\n",
    "    plt.figure(figsize =(17,10))\n",
    "#----------------------------------------------------------------------------------#  \n",
    "    plt.subplot(221)\n",
    "    plt.plot(range(period),df['Price'], label=\"Future\")\n",
    "    plt.plot(range(period),df['VN30'], label=\"VN30\")\n",
    "    plt.legend()\n",
    "#----------------------------------------------------------------------------------#  \n",
    "\n",
    "    \n",
    "#     plt.subplot(222)\n",
    "# #     plt.plot(range(period),df['CumVol'], label=\"CumVolume\")\n",
    "# #     plt.legend()\n",
    "\n",
    "#     sns.kdeplot(bid_list, shade = True, label = \"Bid\")\n",
    "#     sns.kdeplot(ask_list, shade = True, label = \"Ask\")\n",
    "\n",
    "#     plt.legend()\n",
    "#----------------------------------------------------------------------------------#  \n",
    "\n",
    "\n",
    "    plt.subplot(223)\n",
    "    plt.plot(range(period),df['Spread'], label =\"Spread\")\n",
    "    plt.legend()\n",
    "#----------------------------------------------------------------------------------#  \n",
    "\n",
    "    \n",
    "    plt.subplot(224)\n",
    "    p1 = plt.barh(1, df['NN_mua'][i], color = \"green\" )\n",
    "    p2 = plt.barh(1, df['NN_ban'][i], left = df['NN_mua'][i], color = \"red\")\n",
    "    plt.gca().axes.get_yaxis().set_visible(False)\n",
    "    plt.legend((p1[0], p2[0]), ('NN_Mua', 'NN_Ban'))\n",
    "\n",
    "    fig1.canvas.draw()\n",
    "#----------------------------------------------------------------------------------#  \n",
    "\n",
    "\n",
    "    plt.pause(.5)\n",
    "    #plt.clf()\n",
    "    i+= 1\n",
    "    \n",
    "    if time[:5] == '11:30':\n",
    "        TIME.sleep(5400)\n",
    "    \n",
    "    if time[:5] == '14:45':\n",
    "        break\n",
    "    clear_output(wait=True)"
   ]
  },
  {
   "cell_type": "code",
   "execution_count": null,
   "metadata": {},
   "outputs": [],
   "source": []
  },
  {
   "cell_type": "code",
   "execution_count": null,
   "metadata": {},
   "outputs": [],
   "source": []
  },
  {
   "cell_type": "code",
   "execution_count": null,
   "metadata": {},
   "outputs": [],
   "source": []
  },
  {
   "cell_type": "code",
   "execution_count": null,
   "metadata": {},
   "outputs": [],
   "source": []
  },
  {
   "cell_type": "code",
   "execution_count": null,
   "metadata": {},
   "outputs": [],
   "source": []
  },
  {
   "cell_type": "code",
   "execution_count": null,
   "metadata": {},
   "outputs": [],
   "source": []
  },
  {
   "cell_type": "code",
   "execution_count": null,
   "metadata": {},
   "outputs": [],
   "source": []
  },
  {
   "cell_type": "code",
   "execution_count": null,
   "metadata": {},
   "outputs": [],
   "source": []
  },
  {
   "cell_type": "code",
   "execution_count": null,
   "metadata": {},
   "outputs": [],
   "source": []
  },
  {
   "cell_type": "code",
   "execution_count": null,
   "metadata": {},
   "outputs": [],
   "source": []
  },
  {
   "cell_type": "code",
   "execution_count": null,
   "metadata": {},
   "outputs": [],
   "source": []
  },
  {
   "cell_type": "code",
   "execution_count": null,
   "metadata": {},
   "outputs": [],
   "source": [
    "date = date.replace(\"/\",\"-\")\n"
   ]
  }
 ],
 "metadata": {
  "kernelspec": {
   "display_name": "Python 3",
   "language": "python",
   "name": "python3"
  },
  "language_info": {
   "codemirror_mode": {
    "name": "ipython",
    "version": 3
   },
   "file_extension": ".py",
   "mimetype": "text/x-python",
   "name": "python",
   "nbconvert_exporter": "python",
   "pygments_lexer": "ipython3",
   "version": "3.6.4"
  }
 },
 "nbformat": 4,
 "nbformat_minor": 2
}
